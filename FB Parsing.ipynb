{
 "cells": [
  {
   "cell_type": "code",
   "execution_count": 4,
   "metadata": {},
   "outputs": [],
   "source": [
    "from selenium import webdriver\n",
    "from selenium.webdriver.common.keys import Keys\n",
    "from time import sleep\n",
    "from bs4 import BeautifulSoup"
   ]
  },
  {
   "cell_type": "code",
   "execution_count": 5,
   "metadata": {},
   "outputs": [],
   "source": [
    "b=webdriver.Firefox()\n",
    "b.get('https://facebook.com')\n",
    "login = b.find_element_by_id('email')\n",
    "login.send_keys('email')#typing facebook login\n",
    "passw = b.find_element_by_id('pass')\n",
    "passw.send_keys('password')#typing facebook password\n",
    "k=b.find_element_by_css_selector('input[type=\"submit\"]')\n",
    "k.click()"
   ]
  },
  {
   "cell_type": "markdown",
   "metadata": {},
   "source": [
    "# Page parsing"
   ]
  },
  {
   "cell_type": "code",
   "execution_count": 6,
   "metadata": {},
   "outputs": [],
   "source": [
    "def get_frends(nikname,max_frends=250):\n",
    "    max_frends = int(max_frends/12)\n",
    "    #make links to friends NikName\n",
    "    link_to_friends = 'https://facebook.com/'+nikname+'/friends'\n",
    "    #get content friends\n",
    "    b.get(link_to_friends)\n",
    "    #scroll down becouse download all content\n",
    "    html = b.find_element_by_tag_name('html')\n",
    "    for i in range(max_frends):\n",
    "        html.send_keys(Keys.END)\n",
    "        sleep(3)\n",
    "    #grab class when is information about frends    \n",
    "    fr = b.find_elements_by_xpath('//div[@class=\"fsl fwb fcb\"]')   \n",
    "    #prepare information\n",
    "    friends={}\n",
    "    #loop folow content\n",
    "    for i in range(len(fr)):\n",
    "        fr_link = fr[i].find_element_by_tag_name('a')\n",
    "        link = fr_link.get_attribute('href')\n",
    "        \n",
    "        if link.rfind('?fref')>0 and link.rfind('hc_location=friends_tab')>0:\n",
    "            friends[link[len('https://www.facebook.com/'):link.rfind('?fref')]] = str(fr[i].text)\n",
    "        elif link.rfind('&fref') and link.rfind('hc_location=friends_tab')>0:   \n",
    "            friends[link[link.rfind('&fref')-15:link.rfind('&fref')]] = str(fr[i].text)\n",
    "     \n",
    "                \n",
    "    return friends "
   ]
  },
  {
   "cell_type": "code",
   "execution_count": 15,
   "metadata": {},
   "outputs": [],
   "source": [
    "#количество друзей\n",
    "def get_count_friends(login):\n",
    "    sleep(3)\n",
    "    link_friends = link_friends = 'https://www.facebook.com/'+login+'/friends_all' #number of friends\n",
    "    b.get(link_friends)\n",
    "    count_fr = b.find_elements_by_xpath('//div[@class=\"_3dc lfloat _ohe _5brz _5bry\"]/a[@id=\"u_0_1i\"]/span[@class=\"_3d0\"]')   \n",
    "    return int(count_fr[0].text)"
   ]
  },
  {
   "cell_type": "code",
   "execution_count": 16,
   "metadata": {},
   "outputs": [],
   "source": []
  },
  {
   "cell_type": "markdown",
   "metadata": {},
   "source": [
    "# Reading data"
   ]
  },
  {
   "cell_type": "code",
   "execution_count": 8,
   "metadata": {},
   "outputs": [],
   "source": [
    "import pandas as pd"
   ]
  },
  {
   "cell_type": "code",
   "execution_count": 1,
   "metadata": {},
   "outputs": [],
   "source": [
    "start_login = 'login'               #first login for start\n",
    "start_fio = 'First and last name'   #First and last name for start"
   ]
  },
  {
   "cell_type": "code",
   "execution_count": 16,
   "metadata": {},
   "outputs": [
    {
     "ename": "IndexError",
     "evalue": "list index out of range",
     "output_type": "error",
     "traceback": [
      "\u001b[1;31m---------------------------------------------------------------------------\u001b[0m",
      "\u001b[1;31mIndexError\u001b[0m                                Traceback (most recent call last)",
      "\u001b[1;32m<ipython-input-16-c9f72e79ae26>\u001b[0m in \u001b[0;36m<module>\u001b[1;34m()\u001b[0m\n\u001b[0;32m      2\u001b[0m \u001b[0mdf\u001b[0m \u001b[1;33m=\u001b[0m \u001b[0mpd\u001b[0m\u001b[1;33m.\u001b[0m\u001b[0mDataFrame\u001b[0m\u001b[1;33m(\u001b[0m\u001b[0mcolumns\u001b[0m\u001b[1;33m=\u001b[0m\u001b[0mcolumns\u001b[0m\u001b[1;33m)\u001b[0m\u001b[1;33m\u001b[0m\u001b[0m\n\u001b[0;32m      3\u001b[0m \u001b[1;33m\u001b[0m\u001b[0m\n\u001b[1;32m----> 4\u001b[1;33m \u001b[0mfrends0\u001b[0m \u001b[1;33m=\u001b[0m \u001b[0mget_frends\u001b[0m\u001b[1;33m(\u001b[0m\u001b[0mstart_login\u001b[0m\u001b[1;33m,\u001b[0m\u001b[0mget_count_friends\u001b[0m\u001b[1;33m(\u001b[0m\u001b[0mstart_login\u001b[0m\u001b[1;33m)\u001b[0m\u001b[1;33m)\u001b[0m\u001b[1;33m\u001b[0m\u001b[0m\n\u001b[0m\u001b[0;32m      5\u001b[0m \u001b[1;33m\u001b[0m\u001b[0m\n\u001b[0;32m      6\u001b[0m \u001b[1;32mfor\u001b[0m \u001b[0mf0\u001b[0m \u001b[1;32min\u001b[0m \u001b[0mfrends0\u001b[0m\u001b[1;33m:\u001b[0m\u001b[1;33m\u001b[0m\u001b[0m\n",
      "\u001b[1;32m<ipython-input-15-9c68ae8acff1>\u001b[0m in \u001b[0;36mget_count_friends\u001b[1;34m(login)\u001b[0m\n\u001b[0;32m      6\u001b[0m     \u001b[0mcount_fr\u001b[0m \u001b[1;33m=\u001b[0m \u001b[0mb\u001b[0m\u001b[1;33m.\u001b[0m\u001b[0mfind_elements_by_xpath\u001b[0m\u001b[1;33m(\u001b[0m\u001b[1;34m'//div[@class=\"_3dc lfloat _ohe _5brz _5bry\"]/a[@id=\"u_0_1i\"]/span[@class=\"_3d0\"]'\u001b[0m\u001b[1;33m)\u001b[0m\u001b[1;33m\u001b[0m\u001b[0m\n\u001b[0;32m      7\u001b[0m \u001b[1;33m\u001b[0m\u001b[0m\n\u001b[1;32m----> 8\u001b[1;33m     \u001b[1;32mreturn\u001b[0m \u001b[0mint\u001b[0m\u001b[1;33m(\u001b[0m\u001b[0mcount_fr\u001b[0m\u001b[1;33m[\u001b[0m\u001b[1;36m0\u001b[0m\u001b[1;33m]\u001b[0m\u001b[1;33m.\u001b[0m\u001b[0mtext\u001b[0m\u001b[1;33m)\u001b[0m\u001b[1;33m\u001b[0m\u001b[0m\n\u001b[0m",
      "\u001b[1;31mIndexError\u001b[0m: list index out of range"
     ]
    }
   ],
   "source": [
    "columns =['NK1','FL_name1','NK2','FL_name2']\n",
    "df = pd.DataFrame(columns=columns)\n",
    "\n",
    "frends0 = get_frends(start_login,get_count_friends(start_login))\n",
    "\n",
    "for f0 in frends0:\n",
    "    sleep(10) \n",
    "    df.loc[len(df)]={'NK1': start_login,'FL_name1': start_fio,'NK2': f0,'FL_name2': frends0[f0]}\n",
    "    frends1 = get_frends(f0,get_count_friends(f0))\n",
    "    for f1 in frends1:\n",
    "        sleep(10)                 \n",
    "        df.loc[len(df)]={'NK1': f0,'FL_name1': frends0[f0] ,'NK2': f1,'FL_name2': frends1[f1]} \n",
    "\n",
    "df.to_csv('graf_fb_'+start_login, index=False)"
   ]
  },
  {
   "cell_type": "code",
   "execution_count": 9,
   "metadata": {},
   "outputs": [],
   "source": []
  },
  {
   "cell_type": "code",
   "execution_count": null,
   "metadata": {},
   "outputs": [],
   "source": []
  },
  {
   "cell_type": "code",
   "execution_count": null,
   "metadata": {},
   "outputs": [],
   "source": []
  },
  {
   "cell_type": "code",
   "execution_count": null,
   "metadata": {},
   "outputs": [],
   "source": []
  },
  {
   "cell_type": "code",
   "execution_count": null,
   "metadata": {},
   "outputs": [],
   "source": []
  },
  {
   "cell_type": "code",
   "execution_count": null,
   "metadata": {},
   "outputs": [],
   "source": []
  },
  {
   "cell_type": "code",
   "execution_count": null,
   "metadata": {},
   "outputs": [],
   "source": []
  },
  {
   "cell_type": "code",
   "execution_count": 161,
   "metadata": {},
   "outputs": [],
   "source": []
  },
  {
   "cell_type": "code",
   "execution_count": 163,
   "metadata": {},
   "outputs": [],
   "source": []
  },
  {
   "cell_type": "code",
   "execution_count": null,
   "metadata": {},
   "outputs": [],
   "source": []
  },
  {
   "cell_type": "code",
   "execution_count": null,
   "metadata": {},
   "outputs": [],
   "source": []
  }
 ],
 "metadata": {
  "kernelspec": {
   "display_name": "Python 3",
   "language": "python",
   "name": "python3"
  },
  "language_info": {
   "codemirror_mode": {
    "name": "ipython",
    "version": 3
   },
   "file_extension": ".py",
   "mimetype": "text/x-python",
   "name": "python",
   "nbconvert_exporter": "python",
   "pygments_lexer": "ipython3",
   "version": "3.8.8"
  }
 },
 "nbformat": 4,
 "nbformat_minor": 2
}
